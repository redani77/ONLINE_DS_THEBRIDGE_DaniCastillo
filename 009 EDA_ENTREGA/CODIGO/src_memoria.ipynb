{
 "cells": [
  {
   "cell_type": "markdown",
   "metadata": {},
   "source": [
    "## ECOMMERCE COSMETICOS DANI CASTILLO"
   ]
  },
  {
   "cell_type": "markdown",
   "metadata": {},
   "source": [
    "## BUSSINES CASE"
   ]
  },
  {
   "cell_type": "markdown",
   "metadata": {},
   "source": [
    "## INTEGRACION DE DATOS"
   ]
  },
  {
   "cell_type": "markdown",
   "metadata": {},
   "source": [
    "## CALIDAD DE DATOS \n"
   ]
  },
  {
   "cell_type": "markdown",
   "metadata": {},
   "source": [
    "## CORRECCION DATOS"
   ]
  },
  {
   "cell_type": "markdown",
   "metadata": {},
   "source": [
    "## NOMBRES VARIABLES"
   ]
  },
  {
   "cell_type": "markdown",
   "metadata": {},
   "source": [
    "## Análisis de nulos\n"
   ]
  },
  {
   "cell_type": "markdown",
   "metadata": {},
   "source": [
    "## Conclusiones:\n",
    "\n",
    "* categoria_cod tiene casi todos los registros a nulo (98%)\n",
    "* marca tiene casi la mitad de los registros a nulo (43%)\n",
    "* hay 500 nulos en sesión (0.02%)\n",
    "\n",
    "## Acciones:\n",
    "\n",
    "* eliminar las variables categoria_cod y marca porque no tenemos posibilidad de conocer esa info.\n",
    "* eliminar solo los nulos de sesión ya que es una variable relevante."
   ]
  },
  {
   "cell_type": "markdown",
   "metadata": {},
   "source": [
    "## Análisis de las variables numéricas"
   ]
  },
  {
   "cell_type": "markdown",
   "metadata": {},
   "source": [
    "\n",
    "Son unos 20000 registros, podríamos eliminarlos. (1%)\n",
    "\n",
    "Pero antes ¿se concentran quizá en algún producto determinado?"
   ]
  },
  {
   "cell_type": "markdown",
   "metadata": {},
   "source": [
    "No parece que sea problema de un producto concreto, así que vamos a eliminar todos los registros.\n",
    "\n",
    "En este cas no lo analizaremos pero con seguridad seran productos devolucion."
   ]
  },
  {
   "cell_type": "markdown",
   "metadata": {},
   "source": [
    "## Análisis de las variables categóricas"
   ]
  },
  {
   "cell_type": "markdown",
   "metadata": {},
   "source": [
    "## Análisis de las variables categóricas"
   ]
  },
  {
   "cell_type": "markdown",
   "metadata": {},
   "source": [
    "## Índice\n",
    "Vamos a poner la fecha como el index."
   ]
  },
  {
   "cell_type": "markdown",
   "metadata": {},
   "source": [
    "## TRANSFORMACION DE DATOS\n",
    "Para estudiar dias de compra, vamos a crear 3 tipos de nuevas variables\n",
    "\n",
    "* Extraer componentes\n",
    "* Variables de calendario: Festivos locales (Rusia)\n",
    "* Indicadores exógenos: Días no necesariamente festivos pero con interés comercial: Black Friday, Cyber Monday, Reyes, San Valentin"
   ]
  },
  {
   "cell_type": "markdown",
   "metadata": {},
   "source": [
    "## Variables de calendario: festivos\n",
    "Para incorporar festivos podemos usar el paquete holidays.\n",
    "\n",
    "No es perfecto, pero nos da mucha flexibilidad porque tiene fiestas de varios países e incluso a nivel comunidades.\n",
    "\n",
    "Y podemos ver el listado de países y el uso básico en:\n",
    "\n",
    "https://github.com/dr-prodigy/python-holidays\n",
    "\n",
    "Por ejemplo vamos a hacer la prueba con España."
   ]
  },
  {
   "cell_type": "markdown",
   "metadata": {},
   "source": [
    "Definimos el objeto festivo_ru ya que este ecommerce es Ruso.\n",
    "\n",
    "Vamos a incorporar una variable que diga en cada registro si era un día festivo o no."
   ]
  },
  {
   "cell_type": "markdown",
   "metadata": {},
   "source": [
    "Comprobamos los festivos."
   ]
  },
  {
   "cell_type": "markdown",
   "metadata": {},
   "source": [
    "## Indicadores exógenos\n",
    "Vamos a añadir indicadores para Black Friday y San Valentín."
   ]
  },
  {
   "cell_type": "markdown",
   "metadata": {},
   "source": [
    "Comprobamos los festivos."
   ]
  },
  {
   "cell_type": "markdown",
   "metadata": {},
   "source": [
    "## TABLON ANALITICO FINAL"
   ]
  },
  {
   "cell_type": "markdown",
   "metadata": {},
   "source": [
    "Vamos a poner las columnas en un orden más natural.\n"
   ]
  },
  {
   "cell_type": "markdown",
   "metadata": {},
   "source": [
    "## ¿Cómo funciona el Customer Journey?"
   ]
  },
  {
   "cell_type": "markdown",
   "metadata": {},
   "source": [
    "Conclusiones:\n",
    "\n",
    "* Las tasas de partida son un 60% de carrito sobre visualiazaciones y un 22% de compra sobre carrito\n",
    "* Por tanto existe un 40% de visitas sobre las que hay que trabajar para conseguir más carritos, y un 78% de carritos sobre los que trabajar para conseguir más compras"
   ]
  },
  {
   "cell_type": "markdown",
   "metadata": {},
   "source": [
    "## ¿Cuántos productos se ven, se añaden al carro, se abandonan y se compran de media en cada sesión?"
   ]
  },
  {
   "cell_type": "markdown",
   "metadata": {},
   "source": [
    "Conocer los principales kpis por sesión nos permite establecer la línea base para ir midiendo los resultados de las acciones de CRO.\n",
    "\n",
    "A diferencia del análisis macro del funnel este análisis es por sesión, lo cual lo hace más operativo.\n",
    "\n",
    "Primero creamos un dataframe con la granularidad a nivel de sesión y evento que necesitamos."
   ]
  },
  {
   "cell_type": "markdown",
   "metadata": {},
   "source": [
    "reordenadmos columnas\n"
   ]
  },
  {
   "cell_type": "markdown",
   "metadata": {},
   "source": [
    "Calculamos la media de cada evento por sesión."
   ]
  },
  {
   "cell_type": "markdown",
   "metadata": {},
   "source": [
    "Conclusión:\n",
    "\n",
    "En cada sesión, de media:\n",
    "\n",
    "* Se ven 2.2 productos\n",
    "* Se añaden 1.3 productos al carrito\n",
    "* Se eliminan 0.9 productos del carrito\n",
    "* Se compran 0.3 productos\n",
    "\n",
    "Como decíamos, éstos son los números que deberemos incrementar con las acciones de CRO."
   ]
  },
  {
   "cell_type": "markdown",
   "metadata": {},
   "source": [
    "## ¿Existen diferencias entre los eventos por horas?\n",
    "Creamos el dataframe a granularidad evento y hora."
   ]
  },
  {
   "cell_type": "markdown",
   "metadata": {},
   "source": [
    "convertimos eventos a columnas"
   ]
  },
  {
   "cell_type": "markdown",
   "metadata": {},
   "source": [
    "Vamos a visualizar cómo se distribuyen los eventos por hora."
   ]
  },
  {
   "cell_type": "markdown",
   "metadata": {},
   "source": [
    "Existe una pauta global como era de esperar.\n",
    "\n",
    "Pero para ver mejor las diferencias podemos crear una nueva variable que sea el ratio de compras por visita en cada hora."
   ]
  },
  {
   "cell_type": "markdown",
   "metadata": {},
   "source": [
    "reordenamoslavariable"
   ]
  },
  {
   "cell_type": "markdown",
   "metadata": {},
   "source": [
    "Visualizamos para ver si hay horas en las que se compra proporcionalmente más."
   ]
  },
  {
   "cell_type": "markdown",
   "metadata": {},
   "source": [
    "Conclusiones:\n",
    "    \n",
    "* Las horas en las que la gente compra más son la 1, las 8, de 11 a 13 y las 18\n",
    "* Las horas en las que la gente no compra son las 24, de 3 a 7, de 14 a 17 y de 19 a 23\n",
    "\n",
    "\n",
    "* **INSIGHT #1**: Todas las métricas se maximzan en las franjas entre las 9 y las 13 y entre las 18 y las 20"
   ]
  },
  {
   "cell_type": "markdown",
   "metadata": {},
   "source": [
    "## ¿Cúal es la media de facturación mensual?"
   ]
  },
  {
   "cell_type": "markdown",
   "metadata": {},
   "source": [
    "### ¿Cúal es la tendencia en los últimos meses?"
   ]
  },
  {
   "cell_type": "markdown",
   "metadata": {},
   "source": [
    "La tendencia es plana en todas las métricas, lo que confirma la necesidad de las acciones de CRO.\n",
    "\n",
    "Existe un pico significativo en la semana del 24, obviamente por black friday, vamos a hacer el mismo análisis pero diario y solo para noviembre y dicienbre para ver el efecto."
   ]
  },
  {
   "cell_type": "markdown",
   "metadata": {},
   "source": [
    "Conclusiones:\n",
    "\n",
    "* Efectivamente el pico coincide con el black friday (día 29)\n",
    "* Pero aún hay un pico mayor unos días antes, el día 22, posiblemente por el inicio de la semana black friday\n",
    "* Sorprendemente los propios días de Navidad tienen una tendencia decreciente, lo que significa que los consumidores claramente han adelantado sus compras\n",
    "\n",
    "Vamos a hacer el mismo análisis para Enero y Febrero."
   ]
  },
  {
   "cell_type": "markdown",
   "metadata": {},
   "source": [
    "Conclusiones:\n",
    "\n",
    "* Durante la semana de Reyes tampoco hay pico de ventas\n",
    "* Ni los días previos a San Valentín\n",
    "* Pero sí hay un pico muy pronunciado el 27 de Enero, seguramente algún evento local\n",
    "\n",
    "**INSIGHT #2** La gran conclusión es que todo el pastel de las compras navideñas se reparte en la semana del black friday"
   ]
  },
  {
   "cell_type": "markdown",
   "metadata": {},
   "source": [
    "## Entendiendo los clientes"
   ]
  },
  {
   "cell_type": "markdown",
   "metadata": {},
   "source": [
    "renombramos"
   ]
  },
  {
   "cell_type": "markdown",
   "metadata": {},
   "source": [
    "Vamos a calcular variables adicionales."
   ]
  },
  {
   "cell_type": "markdown",
   "metadata": {},
   "source": [
    "## ¿Cómo se distribuyen los clientes en cuanto a gasto?"
   ]
  },
  {
   "cell_type": "markdown",
   "metadata": {},
   "source": [
    "La gran mayoría de los clientes han gastado menos de 50€ en el período."
   ]
  },
  {
   "cell_type": "markdown",
   "metadata": {},
   "source": [
    "## ¿Cómo se distribuyen los clientes en cuanto al número de compras?"
   ]
  },
  {
   "cell_type": "markdown",
   "metadata": {},
   "source": [
    "**INSIGHT #3** La gran mayoría de los clientes sólo hace una compra.\n",
    "\n",
    "Existe gran recorrido para mejorar este ratio mediante:\n",
    "\n",
    "* email marketing con newletters y ofertas personalizadas"
   ]
  },
  {
   "cell_type": "markdown",
   "metadata": {
    "vscode": {
     "languageId": "bat"
    }
   },
   "source": [
    "## ¿Cuántos productos compra un cliente de media en cada compra?"
   ]
  },
  {
   "cell_type": "markdown",
   "metadata": {},
   "source": [
    "**INSIGHT #4** La compra mediana incluye 5 productos.\n",
    "\n",
    "Pero un 25% de los clientes compran más de 10 productos en la misma compra.\n",
    "\n",
    "Existe gran recorrido para mejorar este ratio mediante:\n",
    "\n",
    "* sistemas de recomendación en el momento de la compra"
   ]
  },
  {
   "cell_type": "markdown",
   "metadata": {},
   "source": [
    "## Para calcular calculamos el gasto total medio por cliente."
   ]
  },
  {
   "cell_type": "markdown",
   "metadata": {},
   "source": [
    "**INSIGHT #5** Existen clientes con gasto medio decenas de veces superior a la media.\n",
    "\n",
    "Hay que fidelizar estos clientes mediante programas de fidelización."
   ]
  },
  {
   "cell_type": "markdown",
   "metadata": {},
   "source": [
    "## Entendiendo los productos\n",
    "Vamos a crear un dataframe a nivel de producto para poder analizar esta dimensión.\n",
    "\n",
    "Primero calculamos los conteos de cada evento en cada producto."
   ]
  },
  {
   "cell_type": "markdown",
   "metadata": {},
   "source": [
    "Vamos a incorporar el precio, para ello primero creamos un maestro de precios por producto."
   ]
  },
  {
   "cell_type": "markdown",
   "metadata": {},
   "source": [
    "reordenamos el data"
   ]
  },
  {
   "cell_type": "markdown",
   "metadata": {},
   "source": [
    "## ¿Cuales son los productos más vendidos?"
   ]
  },
  {
   "cell_type": "markdown",
   "metadata": {},
   "source": [
    "Posiblemente lograríamos incrementar las ventas y el ticket medio simplemente destacando estos productos en la tienda."
   ]
  },
  {
   "cell_type": "markdown",
   "metadata": {},
   "source": [
    "## ¿Hay productos que no se venden y podríamos eliminar del catálogo?"
   ]
  },
  {
   "cell_type": "markdown",
   "metadata": {},
   "source": [
    "INSIGHT #6: Casi la mitad de los productos no han tenido ninguna venta en los 5 meses del histórico.\n",
    "\n",
    "Se podrían eliminar del catálogo, o como mínimo de la tienda, newsletter, etc, para que no ocupen espacio de los productos que sí se venden.\n",
    "\n"
   ]
  },
  {
   "cell_type": "markdown",
   "metadata": {},
   "source": [
    "## ¿Cual es la relación entre el precio y el volumen de ventas?\n",
    "Ya que este análisis incluye las ventas vamos a eliminar los productos que no han tenido ninguna."
   ]
  },
  {
   "cell_type": "markdown",
   "metadata": {},
   "source": [
    "Sí que existe una clara relación decreciente.\n",
    "\n",
    "Vamos a hacer zoom por ejemplo por debajo de 50€ para entenderlo mejor."
   ]
  },
  {
   "cell_type": "markdown",
   "metadata": {},
   "source": []
  },
  {
   "cell_type": "markdown",
   "metadata": {},
   "source": [
    "## ¿Cuales son los productos más vistos?"
   ]
  },
  {
   "cell_type": "markdown",
   "metadata": {},
   "source": [
    "Posiblemente lograríamos incrementar las ventas y el ticket medio simplemente destacando estos productos en la tienda.\n",
    "\n",
    "Siempre que además de ser vistos también se vendan."
   ]
  },
  {
   "cell_type": "markdown",
   "metadata": {},
   "source": [
    "# CONCLUSIONES\n",
    "\n",
    "La tendencia actual es plana en todas las métricas, lo que confirma la necesidad de las acciones de CRO.\n",
    "\n",
    "Tras el análisis realizado sobre los datos transaccionales se ha desarrollado un plan CRO de 12 iniciativas concretas organizadas en 5 grandes palancas de negocio que con alta probabilidad van a incrementar los baselines consiguiendo un incremento global de los ingresos del ecommerce.\n",
    "\n",
    "En cada sesión, de media:\n",
    "\n",
    "* KPIs por sesión: Se ven 2.2 productos\n",
    "* KPIs por sesión: Se añaden 1.3 productos al carrito\n",
    "* KPIs por sesión: Se eliminan 0.9 productos del carrito\n",
    "* KPIs por sesión: Se compran 0.3 productos\n",
    "* Venta cruzada: mediana de 5 productos por compra\n",
    "* Recurrencia: el 10% de los clientes vuelve a comprar tras el primer mes\n",
    "* Conversión: 60% de añadir al carrito sobre visualizaciones\n",
    "* Conversión: 22% de compra sobre añadidos a carrito\n",
    "* Conversión: 13% de compra sobre visualizaciones\n",
    "* Facturación media mensual: 125.000€\n",
    "\n",
    "\n",
    "\n",
    "\n",
    "\n",
    "\n",
    "\n",
    "\n",
    "\n",
    "\n"
   ]
  }
 ],
 "metadata": {
  "kernelspec": {
   "display_name": "Python 3",
   "language": "python",
   "name": "python3"
  },
  "language_info": {
   "codemirror_mode": {
    "name": "ipython",
    "version": 3
   },
   "file_extension": ".py",
   "mimetype": "text/x-python",
   "name": "python",
   "nbconvert_exporter": "python",
   "pygments_lexer": "ipython3",
   "version": "3.11.3"
  }
 },
 "nbformat": 4,
 "nbformat_minor": 2
}
