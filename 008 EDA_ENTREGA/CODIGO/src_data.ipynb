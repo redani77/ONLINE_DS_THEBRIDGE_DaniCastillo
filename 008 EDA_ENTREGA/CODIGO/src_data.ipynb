{
 "cells": [
  {
   "cell_type": "markdown",
   "metadata": {},
   "source": [
    "## ECOMMERCE COSMETICOS DANI CASTILLO"
   ]
  },
  {
   "cell_type": "markdown",
   "metadata": {},
   "source": [
    "Como la base de datos pesa mucho, os comparto el enlace de drive donde la tengo guardada.\n",
    "\n",
    "https://drive.google.com/file/d/1B2gQtN57MKH9BGmnWSoco0rYXI9xJ6w_/view?usp=drive_link\n"
   ]
  }
 ],
 "metadata": {
  "kernelspec": {
   "display_name": "Python 3",
   "language": "python",
   "name": "python3"
  },
  "language_info": {
   "codemirror_mode": {
    "name": "ipython",
    "version": 3
   },
   "file_extension": ".py",
   "mimetype": "text/x-python",
   "name": "python",
   "nbconvert_exporter": "python",
   "pygments_lexer": "ipython3",
   "version": "3.11.3"
  }
 },
 "nbformat": 4,
 "nbformat_minor": 2
}
