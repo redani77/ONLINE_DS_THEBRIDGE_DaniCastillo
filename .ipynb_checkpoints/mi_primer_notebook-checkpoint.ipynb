{
 "cells": [
  {
   "cell_type": "markdown",
   "id": "fb1dca7f-e45a-4977-ab70-223402d9dc1a",
   "metadata": {},
   "source": [
    "Hola"
   ]
  },
  {
   "cell_type": "markdown",
   "id": "ac092521-1d9b-432a-a04b-88c514a922e6",
   "metadata": {},
   "source": [
    "## Mis primeros pasos con Markdowm....\n",
    "... son muy buenos"
   ]
  },
  {
   "cell_type": "code",
   "execution_count": 8,
   "id": "c21f1440-cf8c-4289-afe2-341110eac226",
   "metadata": {},
   "outputs": [],
   "source": [
    "# Esto es codigo de python."
   ]
  },
  {
   "cell_type": "markdown",
   "id": "95d709cb-9f8e-459a-8546-5f73604b2751",
   "metadata": {},
   "source": [
    "# Cabecera 1\n",
    "## Cabecera 2\n",
    "### Cabecera 3\n",
    "#### Cabecera 4\n",
    "##### Cabecera 5\n",
    "###### Cabecera 6\n",
    "####### Cabecera 7"
   ]
  },
  {
   "cell_type": "markdown",
   "id": "3a2de39f-0959-49b2-9c8b-65c624cfa8c4",
   "metadata": {},
   "source": [
    "<h1>Header 1</h1>\n",
    "<h2>Header 2</h2>\n",
    "<h3>Header 3</h3>"
   ]
  },
  {
   "cell_type": "markdown",
   "id": "20785fe6-142b-41a5-b796-d711133e8a91",
   "metadata": {},
   "source": [
    "**Texto en negrita**\n",
    "\n",
    "*Texto en cursiva*\n",
    "\n",
    "***Texto en negrita y cursiva***\n",
    "\n",
    "** No es negrita **"
   ]
  },
  {
   "cell_type": "markdown",
   "id": "3697f24a-f329-444a-a229-764e37468f3e",
   "metadata": {},
   "source": [
    ">Recuerda la importancia del conocimiento del negocio y del dominio.\n",
    ">>Y utiliza atajos del teclado"
   ]
  },
  {
   "cell_type": "code",
   "execution_count": null,
   "id": "1ca61982-5f4f-4526-9f8d-45899e9e64f3",
   "metadata": {},
   "outputs": [],
   "source": []
  }
 ],
 "metadata": {
  "kernelspec": {
   "display_name": "Python 3 (ipykernel)",
   "language": "python",
   "name": "python3"
  },
  "language_info": {
   "codemirror_mode": {
    "name": "ipython",
    "version": 3
   },
   "file_extension": ".py",
   "mimetype": "text/x-python",
   "name": "python",
   "nbconvert_exporter": "python",
   "pygments_lexer": "ipython3",
   "version": "3.11.3"
  }
 },
 "nbformat": 4,
 "nbformat_minor": 5
}
