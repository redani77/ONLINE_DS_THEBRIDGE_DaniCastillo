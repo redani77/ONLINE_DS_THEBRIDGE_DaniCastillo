{
 "cells": [
  {
   "cell_type": "markdown",
   "id": "c7f65e25",
   "metadata": {},
   "source": [
    "# CODIGO DE EJECUCION"
   ]
  },
  {
   "cell_type": "code",
   "execution_count": null,
   "id": "ffe7be80",
   "metadata": {},
   "outputs": [
    {
     "name": "stdout",
     "output_type": "stream",
     "text": [
      "Archivo 'script.py' guardado exitosamente.\n"
     ]
    }
   ],
   "source": [
    "# ========================\n",
    "# 1. Importación de librerías y carga de datos\n",
    "# ========================\n",
    "import cloudpickle\n",
    "import pandas as pd\n",
    "import os\n",
    "\n",
    "# ========================\n",
    "# 2. Carga de los datos\n",
    "# ========================\n",
    "\n",
    "\n",
    "directorio =  r\"C:\\Users\\DataScience\\ONLINE_DS_THEBRIDGE_DaniCastillo\\ML_LEAD SCORING\\01_src\\01_data_sample\"\n",
    "nombre_fichero_datos = 'validacion.csv'\n",
    "ruta = os.path.join(directorio, nombre_fichero_datos)\n",
    "\n",
    "df = pd.read_csv(ruta,index_col=0,)\n",
    "\n",
    "# ========================\n",
    "# 3. Análisis de valores \n",
    "# ========================\n",
    "\n",
    "df.drop_duplicates(inplace=True)\n",
    "df = df.loc[df.ult_actividad != \"Email Bounced\"]\n",
    "\n",
    "variables_finales = [\n",
    "    'ambito', 'fuente', 'ocupacion', 'paginas_vistas_visita',\n",
    "    'score_actividad', 'score_perfil', 'tiempo_en_site_total',\n",
    "    'ult_actividad', 'visitas_total' \n",
    "]\n",
    "\n",
    "                     \n",
    "df = df[variables_finales]\n",
    "\n",
    "# ========================\n",
    "# 4. Ejecución del pipe\n",
    "# ========================\n",
    "\n",
    "nombre_pipe_ejecucion = 'pipe_ejecucion.pickle'\n",
    "directorioM = r'C:\\Users\\DataScience\\ONLINE_DS_THEBRIDGE_DaniCastillo\\ML_LEAD SCORING\\01_src\\01_data_sample\\TRABAJO'\n",
    "ruta_pipe_ejecucion = os.path.join(directorioM, nombre_pipe_ejecucion)\n",
    "\n",
    "with open(ruta_pipe_ejecucion, mode='rb') as file:\n",
    "   pipe_ejecucion = cloudpickle.load(file)\n",
    "\n",
    "scoring = pipe_ejecucion.predict(df)\n",
    "\n"
   ]
  }
 ],
 "metadata": {
  "kernelspec": {
   "display_name": "Python 3",
   "language": "python",
   "name": "python3"
  },
  "language_info": {
   "codemirror_mode": {
    "name": "ipython",
    "version": 3
   },
   "file_extension": ".py",
   "mimetype": "text/x-python",
   "name": "python",
   "nbconvert_exporter": "python",
   "pygments_lexer": "ipython3",
   "version": "3.13.2"
  },
  "toc": {
   "base_numbering": 1,
   "nav_menu": {},
   "number_sections": true,
   "sideBar": true,
   "skip_h1_title": false,
   "title_cell": "Table of Contents",
   "title_sidebar": "Contents",
   "toc_cell": false,
   "toc_position": {},
   "toc_section_display": true,
   "toc_window_display": true
  },
  "varInspector": {
   "cols": {
    "lenName": 16,
    "lenType": 16,
    "lenVar": 40
   },
   "kernels_config": {
    "python": {
     "delete_cmd_postfix": "",
     "delete_cmd_prefix": "del ",
     "library": "var_list.py",
     "varRefreshCmd": "print(var_dic_list())"
    },
    "r": {
     "delete_cmd_postfix": ") ",
     "delete_cmd_prefix": "rm(",
     "library": "var_list.r",
     "varRefreshCmd": "cat(var_dic_list()) "
    }
   },
   "position": {
    "height": "388.85px",
    "left": "1070px",
    "right": "20px",
    "top": "120px",
    "width": "350px"
   },
   "types_to_exclude": [
    "module",
    "function",
    "builtin_function_or_method",
    "instance",
    "_Feature"
   ],
   "window_display": false
  }
 },
 "nbformat": 4,
 "nbformat_minor": 5
}
